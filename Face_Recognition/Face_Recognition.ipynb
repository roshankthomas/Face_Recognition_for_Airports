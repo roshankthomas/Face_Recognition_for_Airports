{
 "cells": [
  {
   "cell_type": "code",
   "execution_count": 9,
   "id": "ab8cc59f",
   "metadata": {},
   "outputs": [],
   "source": [
    "import cv2\n",
    "import numpy as np\n",
    "import face_recognition\n",
    "import os\n",
    "from datetime import datetime\n",
    "import string\n",
    "import random\n",
    "import time\n"
   ]
  },
  {
   "cell_type": "code",
   "execution_count": null,
   "id": "bebe8f53",
   "metadata": {},
   "outputs": [],
   "source": [
    "# count = len([name for name in os.listdir(DIR) if name !='.DS_Store'])"
   ]
  },
  {
   "cell_type": "code",
   "execution_count": 2,
   "id": "eb36ae9b",
   "metadata": {},
   "outputs": [
    {
     "name": "stdout",
     "output_type": "stream",
     "text": [
      "['Matthew.jpg', 'Steve Carell.jpg', 'Tom Hanks.jpg']\n"
     ]
    }
   ],
   "source": [
    "path = 'images'\n",
    "images = []\n",
    "personNames = []\n",
    "myList = ([ex for ex in os.listdir(path) if ex !=\".DS_Store\"])\n",
    "print(myList)"
   ]
  },
  {
   "cell_type": "code",
   "execution_count": 3,
   "id": "4c2dfffd",
   "metadata": {},
   "outputs": [
    {
     "name": "stdout",
     "output_type": "stream",
     "text": [
      "['Matthew', 'Steve Carell', 'Tom Hanks']\n"
     ]
    }
   ],
   "source": [
    "for cu_img in myList:\n",
    "    current_Img = cv2.imread(f'{path}/{cu_img}')\n",
    "    images.append(current_Img)\n",
    "    personNames.append(os.path.splitext(cu_img)[0])\n",
    "print(personNames)"
   ]
  },
  {
   "cell_type": "code",
   "execution_count": 4,
   "id": "294059a8",
   "metadata": {},
   "outputs": [],
   "source": [
    "def faceEncodings(images):\n",
    "    encodeList = []\n",
    "    for img in images:\n",
    "        img = cv2.cvtColor(img, cv2.COLOR_BGR2RGB)\n",
    "        encode = face_recognition.face_encodings(img)[0]\n",
    "        encodeList.append(encode)\n",
    "    return encodeList"
   ]
  },
  {
   "cell_type": "code",
   "execution_count": 10,
   "id": "1beb5399",
   "metadata": {},
   "outputs": [],
   "source": [
    "def id_generator(size=6, chars=string.ascii_uppercase + string.digits):\n",
    "    boardingNumber = ''.join(random.choice(chars) for _ in range(size))\n",
    "    \n",
    "    return boardingNumber"
   ]
  },
  {
   "cell_type": "code",
   "execution_count": 11,
   "id": "297dbbb1",
   "metadata": {},
   "outputs": [],
   "source": [
    "def passInfo(name):\n",
    "    with open('Boarding.csv','r+') as f:\n",
    "        myDataList = f.readlines()\n",
    "        nameList = []\n",
    "        count = 0\n",
    "        for line in myDataList:\n",
    "            entry = line.split(',')\n",
    "            nameList.append(entry[0])\n",
    "            count = count+1\n",
    "        if name not in nameList:\n",
    "            \n",
    "            time_now = datetime.now()\n",
    "            tStr = time_now.strftime('%H:%M:%S')\n",
    "            dStr = time_now.strftime('%d/%m/%Y')\n",
    "            bStr = id_generator()\n",
    "            count = len(nameList)\n",
    "            \n",
    "            \n",
    "            \n",
    "            f.writelines(f'\\n{name}, {tStr}, {dStr}, {bStr}, {count}')\n",
    "                "
   ]
  },
  {
   "cell_type": "code",
   "execution_count": 6,
   "id": "713836fa",
   "metadata": {},
   "outputs": [
    {
     "name": "stdout",
     "output_type": "stream",
     "text": [
      "All Encodings Complete!!!\n"
     ]
    }
   ],
   "source": [
    "encodeListKnown = faceEncodings(images)\n",
    "print('All Encodings Complete!!!')"
   ]
  },
  {
   "cell_type": "code",
   "execution_count": 15,
   "id": "50858321",
   "metadata": {},
   "outputs": [],
   "source": [
    "cap = cv2.VideoCapture(0)\n",
    "\n",
    "opc_count = 0\n",
    "object_id_list = []\n",
    "dtime = dict()\n",
    "dwell_time = dict()\n",
    "\n",
    "while True:\n",
    "    ret, frame = cap.read()\n",
    "    faces = cv2.resize(frame, (0, 0), None, 0.25, 0.25)\n",
    "    faces = cv2.cvtColor(faces, cv2.COLOR_BGR2RGB)\n",
    "\n",
    "    facesCurrentFrame = face_recognition.face_locations(faces)\n",
    "    encodesCurrentFrame = face_recognition.face_encodings(faces, facesCurrentFrame)\n",
    "    i=0\n",
    "    for encodeFace, faceLoc in zip(encodesCurrentFrame, facesCurrentFrame):\n",
    "        matches = face_recognition.compare_faces(encodeListKnown, encodeFace)\n",
    "        faceDis = face_recognition.face_distance(encodeListKnown, encodeFace)\n",
    "        # print(faceDis)\n",
    "        matchIndex = np.argmin(faceDis)\n",
    "\n",
    "        if matches[matchIndex]:\n",
    "            name = personNames[matchIndex].upper()\n",
    "            # print(name)\n",
    "            y1, x2, y2, x1 = faceLoc\n",
    "            y1, x2, y2, x1 = y1 * 4, x2 * 4, y2 * 4, x1 * 4\n",
    "            cv2.rectangle(frame, (x1, y1), (x2, y2), (0, 255, 0), 2)\n",
    "            cv2.rectangle(frame, (x1, y2 - 35), (x2, y2), (0, 255, 0), cv2.FILLED)\n",
    "            \n",
    "            if matchIndex not in object_id_list:\n",
    "                object_id_list.append(matchIndex)\n",
    "                dtime[matchIndex] = datetime.now()\n",
    "                dwell_time[matchIndex] = 0\n",
    "            else:\n",
    "                curr_time = datetime.now()\n",
    "                old_time = dtime[matchIndex]\n",
    "                time_diff = curr_time - old_time\n",
    "                dtime[matchIndex] = datetime.now()\n",
    "                sec = time_diff.total_seconds()\n",
    "                dwell_time[matchIndex] += sec\n",
    "            i = i+1\n",
    "            cv2.putText(frame, name, (x1 + 6, y2 - 6), cv2.FONT_HERSHEY_DUPLEX, 0.5, (255, 255, 255), 2)\n",
    "            cv2.putText(frame, \"Face\" + str(i),(x1-13,y1-12), cv2.FONT_HERSHEY_DUPLEX, 0.7, (0,0,255), 2)\n",
    "            text = 'Time: {}'.format(int(dwell_time[matchIndex]))\n",
    "            cv2.putText(frame, text, (x2+2, y1-10), cv2.FONT_HERSHEY_DUPLEX, 0.7, (255,255,255), 2)            \n",
    "            passInfo(name)\n",
    "            \n",
    "            if matchIndex not in object_id_list:\n",
    "                object_id_list.append(matchIndex)\n",
    "    opc_count = len(object_id_list)\n",
    "    opc_text = (\"Footfall:{}\".format(opc_count))\n",
    "    cv2.putText(frame, opc_text,(5,30), cv2.FONT_HERSHEY_DUPLEX, 1, (255,255,255), 2)\n",
    "    \n",
    "    cv2.imshow('Webcam', frame)\n",
    "    \n",
    "    if cv2.waitKey(1) == 13:\n",
    "        break\n",
    "\n",
    "cap.release()\n",
    "cv2.destroyAllWindows()"
   ]
  },
  {
   "cell_type": "code",
   "execution_count": null,
   "id": "561736a7",
   "metadata": {},
   "outputs": [],
   "source": []
  }
 ],
 "metadata": {
  "kernelspec": {
   "display_name": "Python 3",
   "language": "python",
   "name": "python3"
  },
  "language_info": {
   "codemirror_mode": {
    "name": "ipython",
    "version": 3
   },
   "file_extension": ".py",
   "mimetype": "text/x-python",
   "name": "python",
   "nbconvert_exporter": "python",
   "pygments_lexer": "ipython3",
   "version": "3.8.8"
  }
 },
 "nbformat": 4,
 "nbformat_minor": 5
}
